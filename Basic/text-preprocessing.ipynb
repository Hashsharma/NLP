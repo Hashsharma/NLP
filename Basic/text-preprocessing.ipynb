{
 "cells": [
  {
   "cell_type": "code",
   "execution_count": 11,
   "metadata": {},
   "outputs": [
    {
     "name": "stderr",
     "output_type": "stream",
     "text": [
      "[nltk_data] Downloading package wordnet to\n",
      "[nltk_data]     C:\\Users\\Scientist\\AppData\\Roaming\\nltk_data...\n",
      "[nltk_data]   Package wordnet is already up-to-date!\n"
     ]
    },
    {
     "data": {
      "text/plain": [
       "True"
      ]
     },
     "execution_count": 11,
     "metadata": {},
     "output_type": "execute_result"
    }
   ],
   "source": [
    "import nltk\n",
    "from nltk.stem.wordnet import WordNetLemmatizer\n",
    "nltk.download('wordnet')"
   ]
  },
  {
   "cell_type": "code",
   "execution_count": 12,
   "metadata": {},
   "outputs": [],
   "source": [
    "stemmer = WordNetLemmatizer()\n",
    "text = '''MyCourse courses are on point. They don't have hours of reading—it's three–four minute videos on every topic followed by interactive exercises where I do the coding and apply the learnings right in the browser.'''"
   ]
  },
  {
   "cell_type": "code",
   "execution_count": 16,
   "metadata": {},
   "outputs": [
    {
     "name": "stdout",
     "output_type": "stream",
     "text": [
      "mycourse\n",
      "course\n",
      "are\n",
      "on\n",
      "point.\n",
      "they\n",
      "don't\n",
      "have\n",
      "hour\n",
      "of\n",
      "reading—it's\n",
      "three–four\n",
      "minute\n",
      "video\n",
      "on\n",
      "every\n",
      "topic\n",
      "followed\n",
      "by\n",
      "interactive\n",
      "exercise\n",
      "where\n",
      "i\n",
      "do\n",
      "the\n",
      "coding\n",
      "and\n",
      "apply\n",
      "the\n",
      "learning\n",
      "right\n",
      "in\n",
      "the\n",
      "browser.\n"
     ]
    }
   ],
   "source": [
    "text = text.lower()\n",
    "for word in text.split():\n",
    "    print(stemmer.lemmatize(word))"
   ]
  },
  {
   "cell_type": "code",
   "execution_count": null,
   "metadata": {},
   "outputs": [],
   "source": []
  }
 ],
 "metadata": {
  "kernelspec": {
   "display_name": "rag_venv",
   "language": "python",
   "name": "rag_venv"
  },
  "language_info": {
   "codemirror_mode": {
    "name": "ipython",
    "version": 3
   },
   "file_extension": ".py",
   "mimetype": "text/x-python",
   "name": "python",
   "nbconvert_exporter": "python",
   "pygments_lexer": "ipython3",
   "version": "3.10.9"
  }
 },
 "nbformat": 4,
 "nbformat_minor": 2
}
