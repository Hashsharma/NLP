{
 "cells": [
  {
   "cell_type": "code",
   "execution_count": 1,
   "metadata": {},
   "outputs": [
    {
     "name": "stderr",
     "output_type": "stream",
     "text": [
      "d:\\mr_document\\all_venv\\rag_venv\\lib\\site-packages\\tqdm\\auto.py:21: TqdmWarning: IProgress not found. Please update jupyter and ipywidgets. See https://ipywidgets.readthedocs.io/en/stable/user_install.html\n",
      "  from .autonotebook import tqdm as notebook_tqdm\n"
     ]
    }
   ],
   "source": [
    "import nltk\n",
    "import numpy as np\n",
    "import faiss\n",
    "from sentence_transformers import SentenceTransformer"
   ]
  },
  {
   "cell_type": "code",
   "execution_count": null,
   "metadata": {},
   "outputs": [
    {
     "name": "stderr",
     "output_type": "stream",
     "text": [
      "[nltk_data] Downloading package punkt to\n",
      "[nltk_data]     C:\\Users\\Scientist\\AppData\\Roaming\\nltk_data...\n",
      "[nltk_data]   Package punkt is already up-to-date!\n",
      "[nltk_data] Downloading package punkt_tab to\n",
      "[nltk_data]     C:\\Users\\Scientist\\AppData\\Roaming\\nltk_data...\n",
      "[nltk_data]   Unzipping tokenizers\\punkt_tab.zip.\n"
     ]
    },
    {
     "data": {
      "text/plain": [
       "True"
      ]
     },
     "execution_count": 11,
     "metadata": {},
     "output_type": "execute_result"
    }
   ],
   "source": [
    "# Download necessary NLTK resources\n",
    "nltk.download('punkt')\n",
    "nltk.download('punkt_tab')\n",
    "\n",
    "# 1. Initialize the SBERT model to generate embeddings\n",
    "# model_path = \"D:\\\\mr_document\\\\all_models\\\\all-MiniLM-L6-v2\\\\\"\n",
    "model = SentenceTransformer('all-MiniLM-L6-v2')  # A lightweight SBERT model"
   ]
  },
  {
   "cell_type": "code",
   "execution_count": 18,
   "metadata": {},
   "outputs": [],
   "source": [
    "# Example paragraph\n",
    "paragraph = \"\"\"\n",
    "Machine learning has transformed the way businesses operate and make decisions. By analyzing vast amounts of data, these models uncover hidden patterns and trends that would otherwise be difficult to identify. For instance, e-commerce companies use machine learning to analyze customer behavior, personalize shopping experiences, and optimize supply chain management. In marketing, AI-powered tools help businesses target the right audience with tailored ads, improving conversion rates. Additionally, machine learning is being used to predict market trends, enabling companies to make more informed strategic decisions. This technological shift is driving a new era of business intelligence and efficiency, making organizations more competitive and agile.\n",
    "In the field of autonomous vehicles, machine learning plays a crucial role in enabling self-driving cars to navigate and make real-time decisions. These vehicles rely on an array of sensors, such as cameras, lidar, and radar, to perceive their environment. Machine learning models process this data to recognize objects, predict their movement, and make decisions to avoid collisions. By continuously learning from vast amounts of driving data, autonomous vehicles can improve their performance over time, making them safer and more reliable. As the technology advances, autonomous vehicles have the potential to reduce traffic accidents, improve traffic flow, and create new transportation solutions.\n",
    "In the entertainment industry, AI-driven tools are being used to create personalized content recommendations for users. Streaming services like Netflix, Spotify, and YouTube rely on machine learning algorithms to analyze a user’s viewing or listening history and suggest content that aligns with their preferences. These algorithms consider a wide range of factors, including genre, actors, and even the time of day, to refine their recommendations. AI is also used in video production, where it can automate tasks such as video editing and special effects generation. With AI, creators can produce content more efficiently and deliver experiences tailored to individual tastes, revolutionizing how media is consumed.\n",
    "AI in healthcare has led to advancements in diagnostics, treatment planning, and drug discovery. Machine learning models are now capable of analyzing medical images, such as X-rays and MRIs, to detect diseases like cancer, pneumonia, and heart conditions with greater precision than human doctors. In drug discovery, AI models help researchers identify potential compounds that could lead to new treatments, speeding up the process of bringing new drugs to market. AI is also used to personalize treatment plans, analyzing a patient's medical history and genetic data to recommend the most effective treatments. These breakthroughs are improving patient outcomes and transforming healthcare delivery.\n",
    "\"\"\"\n",
    "\n",
    "# Step 3: Tokenize the paragraph into sentences\n",
    "sentences = nltk.sent_tokenize(paragraph)\n",
    "\n",
    "# Step 4: Encode the sentences into embeddings\n",
    "sentence_embeddings = model.encode(sentences)\n",
    "\n",
    "# Convert to numpy array for FAISS\n",
    "sentence_embeddings = np.array(sentence_embeddings).astype('float32')\n",
    "\n",
    "# Create the FAISS index (using L2 distance)\n",
    "dimension = sentence_embeddings.shape[1]  # Dimension of the sentence embeddings\n",
    "index = faiss.IndexFlatL2(dimension)\n",
    "\n",
    "# Add sentence embeddings to the FAISS index\n",
    "index.add(sentence_embeddings)\n",
    "\n",
    "def retrieve_similar_sentences(query, k=1):\n",
    "    # Encode the query sentence\n",
    "    query_embedding = model.encode([query])\n",
    "    query_embedding = np.array(query_embedding).astype('float32')\n",
    "    \n",
    "    # Perform the retrieval using FAISS\n",
    "    _, indices = index.search(query_embedding, k)\n",
    "    \n",
    "    # Retrieve the top k similar sentences\n",
    "    similar_sentences = [sentences[i] for i in indices[0]]\n",
    "    return similar_sentences\n"
   ]
  },
  {
   "cell_type": "code",
   "execution_count": null,
   "metadata": {},
   "outputs": [
    {
     "name": "stdout",
     "output_type": "stream",
     "text": [
      "Query: What is self-driving?\n",
      "\n",
      "Retrieved Sentences:\n",
      "1. In the field of autonomous vehicles, machine learning plays a crucial role in enabling self-driving cars to navigate and make real-time decisions.\n"
     ]
    }
   ],
   "source": [
    "query = \"What is self-driving?\"\n",
    "retrieved_sentences = retrieve_similar_sentences(query)\n",
    "\n",
    "# Output the retrieved sentences\n",
    "print(\"Query:\", query)\n",
    "print(\"\\nRetrieved Sentences:\")\n",
    "for i, sentence in enumerate(retrieved_sentences):\n",
    "    print(f\"{i+1}. {sentence}\")\n"
   ]
  },
  {
   "cell_type": "code",
   "execution_count": null,
   "metadata": {},
   "outputs": [],
   "source": []
  }
 ],
 "metadata": {
  "kernelspec": {
   "display_name": "rag_venv",
   "language": "python",
   "name": "rag_venv"
  },
  "language_info": {
   "codemirror_mode": {
    "name": "ipython",
    "version": 3
   },
   "file_extension": ".py",
   "mimetype": "text/x-python",
   "name": "python",
   "nbconvert_exporter": "python",
   "pygments_lexer": "ipython3",
   "version": "3.10.9"
  }
 },
 "nbformat": 4,
 "nbformat_minor": 2
}
