{
 "cells": [
  {
   "cell_type": "code",
   "execution_count": null,
   "metadata": {},
   "outputs": [],
   "source": [
    "pip install sentence-transformers numpy faiss-cpu"
   ]
  },
  {
   "cell_type": "code",
   "execution_count": 1,
   "metadata": {},
   "outputs": [
    {
     "name": "stderr",
     "output_type": "stream",
     "text": [
      "d:\\mr_document\\all_venv\\rag_venv\\lib\\site-packages\\tqdm\\auto.py:21: TqdmWarning: IProgress not found. Please update jupyter and ipywidgets. See https://ipywidgets.readthedocs.io/en/stable/user_install.html\n",
      "  from .autonotebook import tqdm as notebook_tqdm\n"
     ]
    }
   ],
   "source": [
    "import numpy as np\n",
    "import faiss\n",
    "from sentence_transformers import SentenceTransformer"
   ]
  },
  {
   "cell_type": "code",
   "execution_count": 3,
   "metadata": {},
   "outputs": [
    {
     "name": "stderr",
     "output_type": "stream",
     "text": [
      "No sentence-transformers model found with name D:/mr_document/all_models/all-MiniLM-L6-v2/. Creating a new one with mean pooling.\n"
     ]
    }
   ],
   "source": [
    "# 1. Initialize the SBERT model to generate embeddings\n",
    "model_path = \"D:/mr_document/all_models/all-MiniLM-L6-v2/\"\n",
    "model = SentenceTransformer(model_path)  # A lightweight SBERT model"
   ]
  },
  {
   "cell_type": "code",
   "execution_count": 5,
   "metadata": {},
   "outputs": [],
   "source": [
    "# Example documents (you can replace these with your own data)\n",
    "documents = [\n",
    "    \"The sky is blue.\",\n",
    "    \"The grass is green.\",\n",
    "    \"The ocean is vast and deep.\",\n",
    "    \"Python is a popular programming language.\",\n",
    "    \"FAISS is a library for efficient similarity search.\"\n",
    "]\n",
    "\n",
    "# Encode documents\n",
    "document_embeddings = model.encode(documents)\n",
    "\n",
    "# Convert to numpy array\n",
    "document_embeddings = np.array(document_embeddings).astype('float32')"
   ]
  },
  {
   "cell_type": "code",
   "execution_count": 6,
   "metadata": {},
   "outputs": [],
   "source": [
    "# Build the FAISS index\n",
    "index = faiss.IndexFlatL2(document_embeddings.shape[1])  # Using L2 distance (Euclidean)\n",
    "index.add(document_embeddings)  # Add the document embeddings to the index"
   ]
  },
  {
   "cell_type": "code",
   "execution_count": 7,
   "metadata": {},
   "outputs": [],
   "source": [
    "def retrieve_similar_documents(query, k=3):\n",
    "    # Encode the query\n",
    "    query_embedding = model.encode([query])\n",
    "    query_embedding = np.array(query_embedding).astype('float32')\n",
    "\n",
    "    # Perform the retrieval\n",
    "    _, indices = index.search(query_embedding, k)\n",
    "    \n",
    "    # Retrieve the top k documents\n",
    "    similar_docs = [documents[i] for i in indices[0]]\n",
    "    return similar_docs"
   ]
  },
  {
   "cell_type": "code",
   "execution_count": 9,
   "metadata": {},
   "outputs": [
    {
     "name": "stdout",
     "output_type": "stream",
     "text": [
      "Context: FAISS is a library for efficient similarity search.\n",
      "The ocean is vast and deep.\n",
      "Python is a popular programming language.\n"
     ]
    }
   ],
   "source": [
    "# For the sake of simplicity, we are printing the retrieved documents\n",
    "# In a real scenario, you'd pass this to a generative model (e.g., GPT-3, GPT-Neo, etc.)\n",
    "def generate_response(query):\n",
    "    # Retrieve the top k similar documents\n",
    "    retrieved_docs = retrieve_similar_documents(query)\n",
    "\n",
    "    # Combine retrieved documents into context for generation\n",
    "    context = \"\\n\".join(retrieved_docs)\n",
    "\n",
    "    # Here you would typically use a language model to generate a response\n",
    "    # For example, using OpenAI's GPT-3\n",
    "    print(\"Context:\", context)  # Replace this with the model generation code\n",
    "\n",
    "    # Fake response generation (For illustration purposes)\n",
    "    return \"Generated response based on context: \" + context\n",
    "\n",
    "# Test the RAG system\n",
    "query = \"What is FAISS?\"\n",
    "response = generate_response(query)\n",
    "# print(response)\n"
   ]
  },
  {
   "cell_type": "code",
   "execution_count": null,
   "metadata": {},
   "outputs": [],
   "source": []
  }
 ],
 "metadata": {
  "kernelspec": {
   "display_name": "rag_venv",
   "language": "python",
   "name": "rag_venv"
  },
  "language_info": {
   "codemirror_mode": {
    "name": "ipython",
    "version": 3
   },
   "file_extension": ".py",
   "mimetype": "text/x-python",
   "name": "python",
   "nbconvert_exporter": "python",
   "pygments_lexer": "ipython3",
   "version": "3.10.9"
  }
 },
 "nbformat": 4,
 "nbformat_minor": 2
}
