{
 "cells": [
  {
   "cell_type": "code",
   "execution_count": 10,
   "metadata": {},
   "outputs": [],
   "source": [
    "import spacy\n",
    "import chromadb"
   ]
  },
  {
   "cell_type": "code",
   "execution_count": 15,
   "metadata": {},
   "outputs": [
    {
     "name": "stdout",
     "output_type": "stream",
     "text": [
      "Collecting en-core-web-sm==3.8.0\n",
      "  Downloading https://github.com/explosion/spacy-models/releases/download/en_core_web_sm-3.8.0/en_core_web_sm-3.8.0-py3-none-any.whl (12.8 MB)\n",
      "     ---------------------------------------- 12.8/12.8 MB 1.9 MB/s eta 0:00:00\n",
      "Installing collected packages: en-core-web-sm\n",
      "Successfully installed en-core-web-sm-3.8.0\n",
      "\u001b[38;5;2m✔ Download and installation successful\u001b[0m\n",
      "You can now load the package via spacy.load('en_core_web_sm')\n"
     ]
    },
    {
     "name": "stderr",
     "output_type": "stream",
     "text": [
      "\n",
      "[notice] A new release of pip available: 22.3.1 -> 25.0.1\n",
      "[notice] To update, run: python.exe -m pip install --upgrade pip\n"
     ]
    }
   ],
   "source": [
    "# !python -m spacy download en_core_web_trf\n",
    "!python -m spacy download en_core_web_sm"
   ]
  },
  {
   "cell_type": "code",
   "execution_count": 16,
   "metadata": {},
   "outputs": [],
   "source": [
    "# Load a transformer-based model in spaCy\n",
    "nlp = spacy.load(\"en_core_web_sm\")  # Transformer-based model"
   ]
  },
  {
   "cell_type": "code",
   "execution_count": 39,
   "metadata": {},
   "outputs": [],
   "source": [
    "# Create the ChromaDB client and collection\n",
    "client = chromadb.Client()\n",
    "collection = client.create_collection(name=\"my_collection\")\n",
    "\n",
    "# Sample documents\n",
    "documents = [\"What is the capital of France?\", \"What is the largest planet in the solar system?\", \"Who wrote 'Hamlet'?\"]\n",
    "answers = [\"Paris\", \"Jupiter\", \"William Shakespeare\"]\n",
    "\n",
    "# Generate embeddings using spaCy\n",
    "embeddings = [nlp(doc).vector for doc in documents]\n",
    "\n",
    "# Store documents, embeddings, and metadata in ChromaDB\n",
    "for i, doc in enumerate(documents):\n",
    "    collection.add(\n",
    "        ids=[str(i)],\n",
    "        embeddings=[embeddings[i]],\n",
    "        metadatas=[{'answer': answers[i]}],\n",
    "        documents=[doc]\n",
    "    )\n",
    "\n"
   ]
  },
  {
   "cell_type": "code",
   "execution_count": 41,
   "metadata": {},
   "outputs": [
    {
     "data": {
      "text/plain": [
       "{'ids': [['0']],\n",
       " 'embeddings': None,\n",
       " 'documents': [['What is the capital of France?']],\n",
       " 'uris': None,\n",
       " 'data': None,\n",
       " 'metadatas': [[{'answer': 'Paris'}]],\n",
       " 'distances': [[5.011672496795654]],\n",
       " 'included': [<IncludeEnum.distances: 'distances'>,\n",
       "  <IncludeEnum.documents: 'documents'>,\n",
       "  <IncludeEnum.metadatas: 'metadatas'>]}"
      ]
     },
     "execution_count": 41,
     "metadata": {},
     "output_type": "execute_result"
    }
   ],
   "source": [
    "# Query the collection\n",
    "query = \"Who is the author of 'Hamlet'?\"\n",
    "query_embedding = nlp(query).vector\n",
    "results = collection.query(query_embeddings=[query_embedding], n_results=1)\n",
    "# Extract and print the most relevant answer\n",
    "top_result = results['documents'][0]\n",
    "results\n",
    "\n"
   ]
  },
  {
   "cell_type": "code",
   "execution_count": 42,
   "metadata": {},
   "outputs": [
    {
     "name": "stdout",
     "output_type": "stream",
     "text": [
      "Question: Who is the author of 'Hamlet'?\n",
      "Answer: Paris\n"
     ]
    }
   ],
   "source": [
    "answer = results['metadatas'][0][0]['answer']\n",
    "print(f\"Question: {query}\")\n",
    "print(f\"Answer: {answer}\")"
   ]
  },
  {
   "cell_type": "code",
   "execution_count": null,
   "metadata": {},
   "outputs": [],
   "source": []
  },
  {
   "cell_type": "code",
   "execution_count": null,
   "metadata": {},
   "outputs": [],
   "source": []
  }
 ],
 "metadata": {
  "kernelspec": {
   "display_name": "rag_venv",
   "language": "python",
   "name": "rag_venv"
  },
  "language_info": {
   "codemirror_mode": {
    "name": "ipython",
    "version": 3
   },
   "file_extension": ".py",
   "mimetype": "text/x-python",
   "name": "python",
   "nbconvert_exporter": "python",
   "pygments_lexer": "ipython3",
   "version": "3.10.9"
  }
 },
 "nbformat": 4,
 "nbformat_minor": 2
}
