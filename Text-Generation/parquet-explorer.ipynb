{
 "cells": [
  {
   "cell_type": "code",
   "execution_count": 7,
   "metadata": {},
   "outputs": [],
   "source": [
    "import pandas as pd"
   ]
  },
  {
   "cell_type": "code",
   "execution_count": null,
   "metadata": {},
   "outputs": [
    {
     "name": "stdout",
     "output_type": "stream",
     "text": [
      "                                                  Context Answer  \\\n",
      "0       I was at the post office early that morning, h...      B   \n",
      "1       Bay Village Branch, 502 Cahoon Road, 440-871-6...      D   \n",
      "2       Many people like spring, because they can go o...      A   \n",
      "3       You will have a lot of reading to do in this g...      D   \n",
      "4       Q: My problem is computer gaming. I do it day ...      C   \n",
      "...                                                   ...    ...   \n",
      "111361  Myfriend'sgrandfathercametoAmericafromafarminT...      A   \n",
      "111362  It is named a kind of wooden Eiffel Tower, bec...      C   \n",
      "111363  You can't always predict a heavy rain or remem...      B   \n",
      "111364  Global warming is causing more than 300,000 de...      B   \n",
      "111365  Maybe you are an average  student. You probabl...      A   \n",
      "\n",
      "                                                 Question  \\\n",
      "0                     What can be inferred from the text?   \n",
      "1       If you want to learn how to educate your child...   \n",
      "2                James has been swimming for   _   years.   \n",
      "3                                  When you read,   _   .   \n",
      "4                          Which Q&A mentioned transport?   \n",
      "...                                                   ...   \n",
      "111361             My friend's grandfather camefrom  _  .   \n",
      "111362  How did the writer find Mr. David's plan to ju...   \n",
      "111363  Which of the following show how the lampbrella...   \n",
      "111364  What is the finding of the Global Humanitarian...   \n",
      "111365                   What's the passage mainly about?   \n",
      "\n",
      "                                                  Choices  \n",
      "0       A. The woman is a friend of the writer's..\\nB....  \n",
      "1       A. Bay Village Branch.\\nB. Fairview Park Branc...  \n",
      "2                    A. five.\\nB. six\\nC. seven\\nD. eight  \n",
      "3       A. don't keep your head still.\\nB. don't hold ...  \n",
      "4       A. The first.\\nB. The second.\\nC. The third.\\n...  \n",
      "...                                                   ...  \n",
      "111361  A. Thailand.\\nB. Manhattan\\nC. New York\\nD. China  \n",
      "111362  A. Heroic..\\nB. Disappointing.\\nC. Crazy.\\nD. ...  \n",
      "111363  A. motor-canopy-sensors.\\nB. Sensors-motor-can...  \n",
      "111364  A. Global temperatures affect the rate of econ...  \n",
      "111365  A. How to become a better student..\\nB. How to...  \n",
      "\n",
      "[111366 rows x 4 columns]\n"
     ]
    }
   ],
   "source": [
    "file_path = \"../resource/train-00000-of-00001.parquet\"\n",
    "df_parquet = pd.read_parquet(file_path)\n",
    "# Write to CSV\n",
    "df_parquet.to_csv(file_path +'.csv', index=False)\n",
    "print(df_parquet)"
   ]
  },
  {
   "cell_type": "code",
   "execution_count": 11,
   "metadata": {},
   "outputs": [
    {
     "data": {
      "text/html": [
       "<div>\n",
       "<style scoped>\n",
       "    .dataframe tbody tr th:only-of-type {\n",
       "        vertical-align: middle;\n",
       "    }\n",
       "\n",
       "    .dataframe tbody tr th {\n",
       "        vertical-align: top;\n",
       "    }\n",
       "\n",
       "    .dataframe thead th {\n",
       "        text-align: right;\n",
       "    }\n",
       "</style>\n",
       "<table border=\"1\" class=\"dataframe\">\n",
       "  <thead>\n",
       "    <tr style=\"text-align: right;\">\n",
       "      <th></th>\n",
       "      <th>Context</th>\n",
       "      <th>Answer</th>\n",
       "      <th>Question</th>\n",
       "      <th>Choices</th>\n",
       "    </tr>\n",
       "  </thead>\n",
       "  <tbody>\n",
       "    <tr>\n",
       "      <th>0</th>\n",
       "      <td>I was at the post office early that morning, h...</td>\n",
       "      <td>B</td>\n",
       "      <td>What can be inferred from the text?</td>\n",
       "      <td>A. The woman is a friend of the writer's..\\nB....</td>\n",
       "    </tr>\n",
       "    <tr>\n",
       "      <th>1</th>\n",
       "      <td>Bay Village Branch, 502 Cahoon Road, 440-871-6...</td>\n",
       "      <td>D</td>\n",
       "      <td>If you want to learn how to educate your child...</td>\n",
       "      <td>A. Bay Village Branch.\\nB. Fairview Park Branc...</td>\n",
       "    </tr>\n",
       "    <tr>\n",
       "      <th>2</th>\n",
       "      <td>Many people like spring, because they can go o...</td>\n",
       "      <td>A</td>\n",
       "      <td>James has been swimming for   _   years.</td>\n",
       "      <td>A. five.\\nB. six\\nC. seven\\nD. eight</td>\n",
       "    </tr>\n",
       "    <tr>\n",
       "      <th>3</th>\n",
       "      <td>You will have a lot of reading to do in this g...</td>\n",
       "      <td>D</td>\n",
       "      <td>When you read,   _   .</td>\n",
       "      <td>A. don't keep your head still.\\nB. don't hold ...</td>\n",
       "    </tr>\n",
       "    <tr>\n",
       "      <th>4</th>\n",
       "      <td>Q: My problem is computer gaming. I do it day ...</td>\n",
       "      <td>C</td>\n",
       "      <td>Which Q&amp;A mentioned transport?</td>\n",
       "      <td>A. The first.\\nB. The second.\\nC. The third.\\n...</td>\n",
       "    </tr>\n",
       "  </tbody>\n",
       "</table>\n",
       "</div>"
      ],
      "text/plain": [
       "                                             Context Answer  \\\n",
       "0  I was at the post office early that morning, h...      B   \n",
       "1  Bay Village Branch, 502 Cahoon Road, 440-871-6...      D   \n",
       "2  Many people like spring, because they can go o...      A   \n",
       "3  You will have a lot of reading to do in this g...      D   \n",
       "4  Q: My problem is computer gaming. I do it day ...      C   \n",
       "\n",
       "                                            Question  \\\n",
       "0                What can be inferred from the text?   \n",
       "1  If you want to learn how to educate your child...   \n",
       "2           James has been swimming for   _   years.   \n",
       "3                             When you read,   _   .   \n",
       "4                     Which Q&A mentioned transport?   \n",
       "\n",
       "                                             Choices  \n",
       "0  A. The woman is a friend of the writer's..\\nB....  \n",
       "1  A. Bay Village Branch.\\nB. Fairview Park Branc...  \n",
       "2               A. five.\\nB. six\\nC. seven\\nD. eight  \n",
       "3  A. don't keep your head still.\\nB. don't hold ...  \n",
       "4  A. The first.\\nB. The second.\\nC. The third.\\n...  "
      ]
     },
     "execution_count": 11,
     "metadata": {},
     "output_type": "execute_result"
    }
   ],
   "source": [
    "excel = pd.read_csv(file_path+\".csv\")\n",
    "excel.head()"
   ]
  },
  {
   "cell_type": "code",
   "execution_count": null,
   "metadata": {},
   "outputs": [],
   "source": []
  }
 ],
 "metadata": {
  "kernelspec": {
   "display_name": "rag_venv",
   "language": "python",
   "name": "rag_venv"
  },
  "language_info": {
   "codemirror_mode": {
    "name": "ipython",
    "version": 3
   },
   "file_extension": ".py",
   "mimetype": "text/x-python",
   "name": "python",
   "nbconvert_exporter": "python",
   "pygments_lexer": "ipython3",
   "version": "3.10.9"
  }
 },
 "nbformat": 4,
 "nbformat_minor": 2
}
