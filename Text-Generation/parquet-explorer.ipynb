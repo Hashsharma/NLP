{
 "cells": [
  {
   "cell_type": "code",
   "execution_count": 1,
   "metadata": {},
   "outputs": [],
   "source": [
    "import pandas as pd"
   ]
  },
  {
   "cell_type": "code",
   "execution_count": 2,
   "metadata": {},
   "outputs": [
    {
     "name": "stdout",
     "output_type": "stream",
     "text": [
      "                                                question      distractor3  \\\n",
      "0      What type of organism is commonly used in prep...          viruses   \n",
      "1      What phenomenon makes global winds blow northe...  tropical effect   \n",
      "2      Changes from a less-ordered state to a more-or...      endothermic   \n",
      "3         What is the least dangerous radioactive decay?       zeta decay   \n",
      "4      Kilauea in hawaii is the world’s most continuo...            magma   \n",
      "...                                                  ...              ...   \n",
      "11674  The enzyme pepsin plays an important role in t...           lipids   \n",
      "11675  What remains a constant of radioactive substan...          acidity   \n",
      "11676  Terrestrial ecosystems, also known for their d...       substrates   \n",
      "11677  High explosives create shock waves that exceed...       turbulence   \n",
      "11678  What do you call a structure composed of two o...           system   \n",
      "\n",
      "            distractor1         distractor2        correct_answer  \\\n",
      "0              protozoa         gymnosperms  mesophilic organisms   \n",
      "1           muon effect  centrifugal effect       coriolis effect   \n",
      "2            unbalanced            reactive            exothermic   \n",
      "3            beta decay         gamma decay           alpha decay   \n",
      "4      greenhouse gases     carbon and smog         smoke and ash   \n",
      "...                 ...                 ...                   ...   \n",
      "11674           protons            proteins              peptides   \n",
      "11675       temperature          volatility         rate of decay   \n",
      "11676           bisomes             monomes                biomes   \n",
      "11677       light speed           ion speed            supersonic   \n",
      "11678              cell              marrow                 organ   \n",
      "\n",
      "                                                 support  \n",
      "0      Mesophiles grow best in moderate temperature, ...  \n",
      "1      Without Coriolis Effect the global winds would...  \n",
      "2      Summary Changes of state are examples of phase...  \n",
      "3      All radioactive decay is dangerous to living t...  \n",
      "4      Example 3.5 Calculating Projectile Motion: Hot...  \n",
      "...                                                  ...  \n",
      "11674  Protein A large part of protein digestion take...  \n",
      "11675  The rate of decay of a radioactive substance i...  \n",
      "11676  Terrestrial ecosystems, also known for their d...  \n",
      "11677  The modern day formulation of gun powder is ca...  \n",
      "11678  An organ is a structure composed of two or mor...  \n",
      "\n",
      "[11679 rows x 6 columns]\n"
     ]
    }
   ],
   "source": [
    "file_path = \"../resource/train-00000-of-00001 (1).parquet\"\n",
    "df_parquet = pd.read_parquet(file_path)\n",
    "# Write to CSV\n",
    "df_parquet.to_csv(file_path +'.csv', index=False)\n",
    "print(df_parquet)"
   ]
  },
  {
   "cell_type": "code",
   "execution_count": 3,
   "metadata": {},
   "outputs": [
    {
     "data": {
      "text/html": [
       "<div>\n",
       "<style scoped>\n",
       "    .dataframe tbody tr th:only-of-type {\n",
       "        vertical-align: middle;\n",
       "    }\n",
       "\n",
       "    .dataframe tbody tr th {\n",
       "        vertical-align: top;\n",
       "    }\n",
       "\n",
       "    .dataframe thead th {\n",
       "        text-align: right;\n",
       "    }\n",
       "</style>\n",
       "<table border=\"1\" class=\"dataframe\">\n",
       "  <thead>\n",
       "    <tr style=\"text-align: right;\">\n",
       "      <th></th>\n",
       "      <th>question</th>\n",
       "      <th>distractor3</th>\n",
       "      <th>distractor1</th>\n",
       "      <th>distractor2</th>\n",
       "      <th>correct_answer</th>\n",
       "      <th>support</th>\n",
       "    </tr>\n",
       "  </thead>\n",
       "  <tbody>\n",
       "    <tr>\n",
       "      <th>0</th>\n",
       "      <td>What type of organism is commonly used in prep...</td>\n",
       "      <td>viruses</td>\n",
       "      <td>protozoa</td>\n",
       "      <td>gymnosperms</td>\n",
       "      <td>mesophilic organisms</td>\n",
       "      <td>Mesophiles grow best in moderate temperature, ...</td>\n",
       "    </tr>\n",
       "    <tr>\n",
       "      <th>1</th>\n",
       "      <td>What phenomenon makes global winds blow northe...</td>\n",
       "      <td>tropical effect</td>\n",
       "      <td>muon effect</td>\n",
       "      <td>centrifugal effect</td>\n",
       "      <td>coriolis effect</td>\n",
       "      <td>Without Coriolis Effect the global winds would...</td>\n",
       "    </tr>\n",
       "    <tr>\n",
       "      <th>2</th>\n",
       "      <td>Changes from a less-ordered state to a more-or...</td>\n",
       "      <td>endothermic</td>\n",
       "      <td>unbalanced</td>\n",
       "      <td>reactive</td>\n",
       "      <td>exothermic</td>\n",
       "      <td>Summary Changes of state are examples of phase...</td>\n",
       "    </tr>\n",
       "    <tr>\n",
       "      <th>3</th>\n",
       "      <td>What is the least dangerous radioactive decay?</td>\n",
       "      <td>zeta decay</td>\n",
       "      <td>beta decay</td>\n",
       "      <td>gamma decay</td>\n",
       "      <td>alpha decay</td>\n",
       "      <td>All radioactive decay is dangerous to living t...</td>\n",
       "    </tr>\n",
       "    <tr>\n",
       "      <th>4</th>\n",
       "      <td>Kilauea in hawaii is the world’s most continuo...</td>\n",
       "      <td>magma</td>\n",
       "      <td>greenhouse gases</td>\n",
       "      <td>carbon and smog</td>\n",
       "      <td>smoke and ash</td>\n",
       "      <td>Example 3.5 Calculating Projectile Motion: Hot...</td>\n",
       "    </tr>\n",
       "  </tbody>\n",
       "</table>\n",
       "</div>"
      ],
      "text/plain": [
       "                                            question      distractor3  \\\n",
       "0  What type of organism is commonly used in prep...          viruses   \n",
       "1  What phenomenon makes global winds blow northe...  tropical effect   \n",
       "2  Changes from a less-ordered state to a more-or...      endothermic   \n",
       "3     What is the least dangerous radioactive decay?       zeta decay   \n",
       "4  Kilauea in hawaii is the world’s most continuo...            magma   \n",
       "\n",
       "        distractor1         distractor2        correct_answer  \\\n",
       "0          protozoa         gymnosperms  mesophilic organisms   \n",
       "1       muon effect  centrifugal effect       coriolis effect   \n",
       "2        unbalanced            reactive            exothermic   \n",
       "3        beta decay         gamma decay           alpha decay   \n",
       "4  greenhouse gases     carbon and smog         smoke and ash   \n",
       "\n",
       "                                             support  \n",
       "0  Mesophiles grow best in moderate temperature, ...  \n",
       "1  Without Coriolis Effect the global winds would...  \n",
       "2  Summary Changes of state are examples of phase...  \n",
       "3  All radioactive decay is dangerous to living t...  \n",
       "4  Example 3.5 Calculating Projectile Motion: Hot...  "
      ]
     },
     "execution_count": 3,
     "metadata": {},
     "output_type": "execute_result"
    }
   ],
   "source": [
    "excel = pd.read_csv(file_path+\".csv\")\n",
    "excel.head()"
   ]
  },
  {
   "cell_type": "code",
   "execution_count": null,
   "metadata": {},
   "outputs": [],
   "source": []
  }
 ],
 "metadata": {
  "kernelspec": {
   "display_name": "rag_venv",
   "language": "python",
   "name": "rag_venv"
  },
  "language_info": {
   "codemirror_mode": {
    "name": "ipython",
    "version": 3
   },
   "file_extension": ".py",
   "mimetype": "text/x-python",
   "name": "python",
   "nbconvert_exporter": "python",
   "pygments_lexer": "ipython3",
   "version": "3.10.9"
  }
 },
 "nbformat": 4,
 "nbformat_minor": 2
}
